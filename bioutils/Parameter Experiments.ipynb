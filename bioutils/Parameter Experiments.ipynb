{
 "cells": [
  {
   "cell_type": "markdown",
   "id": "fcd52d7a",
   "metadata": {},
   "source": [
    "## Analysis of the GFA graphs produced by rust-mdbg assembler"
   ]
  },
  {
   "cell_type": "code",
   "execution_count": 3,
   "id": "7c0a3824",
   "metadata": {},
   "outputs": [],
   "source": [
    "# Global imports\n",
    "import os\n",
    "import sys\n",
    "import yaml\n",
    "\n",
    "from pathlib import Path\n",
    "from typing import Optional, Union"
   ]
  },
  {
   "cell_type": "code",
   "execution_count": 23,
   "id": "07b9d67b",
   "metadata": {},
   "outputs": [],
   "source": [
    "def load_from_yaml(path: Path) -> dict:\n",
    "    with open(path, 'r') as stream:\n",
    "        data_loaded = yaml.safe_load(stream)\n",
    "    return data_loaded\n",
    "\n",
    "def save_to_yaml(config: dict, filename: str, dirname: Optional[Path] = None):\n",
    "    if dirname is None:\n",
    "        dirname = Path(\"../config/suite/\").resolve()\n",
    "        \n",
    "    os.makedirs(dirname, exist_ok=True)\n",
    "    \n",
    "    with open(dirname / filename, \"w\") as stream:\n",
    "        yaml.dump(config, stream, default_flow_style=False)\n",
    "    "
   ]
  },
  {
   "cell_type": "code",
   "execution_count": 24,
   "id": "45f4321c",
   "metadata": {},
   "outputs": [],
   "source": [
    "def modify_config_parameter(config: dict, param: dict[str,Union[int, float]]) -> tuple[str, dict]:\n",
    "    new_config = config.copy()\n",
    "    new_name =  []\n",
    "    for param_name, param_value in dict(sorted(param.items())).items():\n",
    "        new_config['assembler']['params'][param_name] = param_value\n",
    "        if isinstance(param_value, int):\n",
    "            param_value = str(param_value).zfill(2)\n",
    "        if isinstance(param_value, float):\n",
    "            param_value = str(param_value).split('.')[1]\n",
    "            param_value = str(param_value).ljust(3, '0')\n",
    "        new_name.append(f'{param_name}_{param_value}')\n",
    "        \n",
    "    new_name = \"_\".join(new_name)\n",
    "    return f'config_{new_name}.yaml', new_config"
   ]
  },
  {
   "cell_type": "code",
   "execution_count": 6,
   "id": "767f393d",
   "metadata": {},
   "outputs": [],
   "source": [
    "def add_dir_to_sys_path(src_dir: os.PathLike):\n",
    "    \"\"\"\n",
    "    Utility function for adding iccd source directory to system path.\n",
    "\n",
    "    Parameters\n",
    "    ----------\n",
    "    src_dir\n",
    "        Path to the src directory in interceptor repo\n",
    "    \"\"\"\n",
    "    if os.path.isdir(src_dir) and src_dir not in sys.path:\n",
    "        sys.path.insert(0, src_dir)"
   ]
  },
  {
   "cell_type": "markdown",
   "id": "4afe59d8",
   "metadata": {},
   "source": [
    "### Set up the paths to required software"
   ]
  },
  {
   "cell_type": "code",
   "execution_count": 20,
   "id": "4fcd9bcf",
   "metadata": {},
   "outputs": [],
   "source": [
    "# Tools for GFA analysis\n",
    "\n",
    "# Pipeline\n",
    "    \n",
    "PIPELINE_PATH = Path(\"../\").resolve()\n",
    "add_dir_to_sys_path(str(PIPELINE_PATH))\n",
    "\n",
    "# Load global config\n",
    "CONFIG_PATH = Path(\"../config/config.yaml\").resolve()\n",
    "global_config = load_from_yaml(CONFIG_PATH)\n",
    "\n",
    "# config value grid\n",
    "K_RANGE = range(25, 38, 3)\n",
    "L_RANGE = range(7, 14, 2)\n",
    "D_RANGE = (0.001, 0.005, 0.01, 0.05, 0.1)\n",
    "\n",
    "\n",
    "# Output directories\n"
   ]
  },
  {
   "cell_type": "markdown",
   "id": "697b6537",
   "metadata": {},
   "source": [
    "### Grid search configuration\n",
    "\n",
    "We are performing grid search over the following values:\n",
    "k <- [k_start, k_end, k_step]\n",
    "l <- [l_start, l_end, l_step]\n",
    "d <- [d_start, d_end, d_step]\n",
    "\n",
    "It is necessary to perform the analysis on the real reads to determine the optimal parameters of the assembler\n",
    "for further work."
   ]
  },
  {
   "cell_type": "code",
   "execution_count": 8,
   "id": "200bd8e0",
   "metadata": {},
   "outputs": [],
   "source": [
    "from pipeline_dbg import main"
   ]
  },
  {
   "cell_type": "code",
   "execution_count": 25,
   "id": "bf883c68",
   "metadata": {},
   "outputs": [],
   "source": [
    "for k in K_RANGE:\n",
    "    for l in L_RANGE:\n",
    "        for d in D_RANGE:\n",
    "            config_values = {'k': k, 'l': l, 'density': d}\n",
    "            config_name, config_new = modify_config_parameter(global_config, config_values)\n",
    "            save_to_yaml(config_new, config_name)"
   ]
  },
  {
   "cell_type": "code",
   "execution_count": null,
   "id": "d4fb2ddb",
   "metadata": {},
   "outputs": [],
   "source": []
  }
 ],
 "metadata": {
  "kernelspec": {
   "display_name": "Python 3 (ipykernel)",
   "language": "python",
   "name": "python3"
  },
  "language_info": {
   "codemirror_mode": {
    "name": "ipython",
    "version": 3
   },
   "file_extension": ".py",
   "mimetype": "text/x-python",
   "name": "python",
   "nbconvert_exporter": "python",
   "pygments_lexer": "ipython3",
   "version": "3.10.2"
  }
 },
 "nbformat": 4,
 "nbformat_minor": 5
}
